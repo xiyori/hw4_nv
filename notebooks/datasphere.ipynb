{
 "cells": [
  {
   "cell_type": "code",
   "execution_count": 19,
   "id": "952f6284",
   "metadata": {
    "cellId": "ouwob8sxh8e82c0xuru1xy"
   },
   "outputs": [
    {
     "name": "stdout",
     "output_type": "stream",
     "text": [
      "Defaulting to user installation because normal site-packages is not writeable\n",
      "Collecting torchmetrics==0.11.0\n",
      "  Downloading torchmetrics-0.11.0-py3-none-any.whl (512 kB)\n",
      "     |████████████████████████████████| 512 kB 1.6 MB/s            \n",
      "\u001b[?25hRequirement already satisfied: typing-extensions in /home/jupyter/.local/lib/python3.8/site-packages (from torchmetrics==0.11.0) (4.4.0)\n",
      "Requirement already satisfied: torch>=1.8.1 in /usr/local/lib/python3.8/dist-packages (from torchmetrics==0.11.0) (1.9.1+cu111)\n",
      "Requirement already satisfied: packaging in /kernel/lib/python3.8/site-packages (from torchmetrics==0.11.0) (20.9)\n",
      "Requirement already satisfied: numpy>=1.17.2 in /kernel/fallback/lib/python3.8/site-packages (from torchmetrics==0.11.0) (1.19.4)\n",
      "Requirement already satisfied: pyparsing>=2.0.2 in /kernel/lib/python3.8/site-packages (from packaging->torchmetrics==0.11.0) (2.4.7)\n",
      "Installing collected packages: torchmetrics\n",
      "Successfully installed torchmetrics-0.11.0\n",
      "\u001b[33mWARNING: You are using pip version 21.3.1; however, version 22.3.1 is available.\n",
      "You should consider upgrading via the '/usr/local/bin/python3 -m pip install --upgrade pip' command.\u001b[0m\n"
     ]
    }
   ],
   "source": [
    "#!g1.1\n",
    "%pip install torchmetrics==0.11.0"
   ]
  },
  {
   "cell_type": "markdown",
   "id": "1cb0b883",
   "metadata": {
    "cellId": "e46wa8kuztn08wbclb74m",
    "execution_id": "a6f8ec92-4ec3-47ab-ad1d-64d04b5f6000"
   },
   "source": [
    "Dataset"
   ]
  },
  {
   "cell_type": "code",
   "execution_count": 12,
   "id": "3101d1d4",
   "metadata": {
    "cellId": "3nv5n1wh4un2vd5rkdvaov"
   },
   "outputs": [
    {
     "name": "stdout",
     "output_type": "stream",
     "text": [
      "download LjSpeech\n",
      "download labels\n"
     ]
    }
   ],
   "source": [
    "!python3 bin/download.py -d"
   ]
  },
  {
   "cell_type": "code",
   "execution_count": 13,
   "id": "14b4ea5b",
   "metadata": {
    "cellId": "185gai5855ii4oxdxg3p4g"
   },
   "outputs": [
    {
     "name": "stdout",
     "output_type": "stream",
     "text": [
      "Background cell scheduled. Waiting for foreground cells to finish commits\n",
      "Unmounting dataset LJSpeech-1.1... ok\n",
      "Deleting old dataset LJSpeech-1.1... ok\n",
      "Preparing c1.4 instance...\n",
      "c1.4 instance is ready, running task...\n",
      "Mounting dataset LJSpeech-1.1... /home/jupyter/mnt/datasets/LJSpeech-1.1\n",
      "Task is done, waiting for foreground cells to finish...\n",
      "It's init dataset task. State result won't be merged.\n"
     ]
    }
   ],
   "source": [
    "#!:bash\n",
    "#pragma dataset init LJSpeech-1.1 --size 4Gb\n",
    "\n",
    "set -e\n",
    "cp -r resources/LJSpeech-1.1 /home/jupyter/mnt/datasets"
   ]
  },
  {
   "cell_type": "code",
   "execution_count": 14,
   "id": "207506ad",
   "metadata": {
    "cellId": "w85oiifu83mrr0j7vhewth"
   },
   "outputs": [
    {
     "name": "stdout",
     "output_type": "stream",
     "text": [
      "README\n",
      "metadata.csv\n",
      "training.txt\n",
      "validation.txt\n",
      "wavs\n"
     ]
    }
   ],
   "source": [
    "#!g1.1\n",
    "!ls /home/jupyter/mnt/datasets/LJSpeech-1.1"
   ]
  },
  {
   "cell_type": "code",
   "execution_count": null,
   "id": "a20549ab",
   "metadata": {
    "cellId": "8a5uo8yvow81vwyxk978z9",
    "execution_id": "1572bcfd-465f-4fb5-bcc5-117e638a549c"
   },
   "outputs": [],
   "source": [
    "#!g1.1\n",
    "!python3 train.py"
   ]
  },
  {
   "cell_type": "code",
   "execution_count": null,
   "id": "4d98c06f",
   "metadata": {
    "cellId": "hkk98h02zyeu1c9md6p5re"
   },
   "outputs": [],
   "source": [
    "#!g1.1\n",
    "!python3 inference.py"
   ]
  }
 ],
 "metadata": {
  "language_info": {
   "codemirror_mode": {
    "name": "ipython",
    "version": 3
   },
   "file_extension": ".py",
   "mimetype": "text/x-python",
   "name": "python",
   "nbconvert_exporter": "python",
   "pygments_lexer": "ipython3",
   "version": "3.7.7"
  },
  "notebookId": "438047a3-6cd4-4ada-b30b-9b93ea7e497b",
  "notebookPath": "hw4_nv/datasphere.ipynb"
 },
 "nbformat": 4,
 "nbformat_minor": 5
}
