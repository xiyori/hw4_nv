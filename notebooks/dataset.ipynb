{
 "cells": [
  {
   "cell_type": "markdown",
   "id": "95d7c34d",
   "metadata": {
    "cellId": "e46wa8kuztn08wbclb74m",
    "execution_id": "ecff805e-afab-4ea9-90a3-0b53b37a102d"
   },
   "source": [
    "Sat2Map"
   ]
  },
  {
   "cell_type": "code",
   "execution_count": 43,
   "id": "eed6cd3a",
   "metadata": {
    "cellId": "ldtd8px669ictlgmq99q2k"
   },
   "outputs": [
    {
     "name": "stderr",
     "output_type": "stream",
     "text": [
      "Downloading...\n",
      "From: https://drive.google.com/u/0/uc?id=1s5a2UeJR4H_KJ-nV4NmRMkBHr3zn20Tf\n",
      "To: /home/jupyter/work/resources/dl_gan/notebooks/maps.zip\n",
      "100%|██████████| 250M/250M [00:02<00:00, 85.8MB/s] \n"
     ]
    }
   ],
   "source": [
    "#!:bash\n",
    "PATH=$PATH:/home/jupyter/.local/bin gdown https://drive.google.com/u/0/uc?id=1s5a2UeJR4H_KJ-nV4NmRMkBHr3zn20Tf\n",
    "unzip maps.zip >> /dev/null"
   ]
  },
  {
   "cell_type": "code",
   "execution_count": 44,
   "id": "f316951d",
   "metadata": {
    "cellId": "185gai5855ii4oxdxg3p4g"
   },
   "outputs": [
    {
     "name": "stdout",
     "output_type": "stream",
     "text": [
      "Background cell scheduled. Waiting for foreground cells to finish commits\n",
      "Unmounting dataset monogatari_white... ok\n",
      "Deleting old dataset monogatari_white... ok\n",
      "Preparing c1.4 instance...\n",
      "c1.4 instance is ready, running task...\n",
      "Mounting dataset maps... /home/jupyter/mnt/datasets/maps\n",
      "Task is done, waiting for foreground cells to finish...\n",
      "It's init dataset task. State result won't be merged.\n"
     ]
    }
   ],
   "source": [
    "#!:bash\n",
    "#pragma dataset init maps --size 1Gb\n",
    "\n",
    "set -e\n",
    "cp -r ./maps/train/train /home/jupyter/mnt/datasets/maps/train\n",
    "cp -r ./maps/val/val /home/jupyter/mnt/datasets/maps/val"
   ]
  },
  {
   "cell_type": "code",
   "execution_count": 45,
   "id": "cfdf35f8",
   "metadata": {
    "cellId": "w85oiifu83mrr0j7vhewth"
   },
   "outputs": [
    {
     "name": "stdout",
     "output_type": "stream",
     "text": [
      "train\n",
      "val\n"
     ]
    }
   ],
   "source": [
    "!ls /home/jupyter/mnt/datasets/maps"
   ]
  },
  {
   "cell_type": "code",
   "execution_count": 46,
   "id": "757cf5c5",
   "metadata": {
    "cellId": "g8ce9pmr7mh8bcvbib943y"
   },
   "outputs": [],
   "source": [
    "!rm -r ./maps ./maps.zip"
   ]
  },
  {
   "cell_type": "markdown",
   "id": "ffacfb17",
   "metadata": {
    "cellId": "tfbd4of21gqkiwnpsj038",
    "execution_id": "4b462887-2070-4af9-a250-020f12cd2770"
   },
   "source": [
    "Monogatari white"
   ]
  },
  {
   "cell_type": "code",
   "execution_count": 39,
   "id": "b1b27ed4",
   "metadata": {
    "cellId": "9pnbjquomeamtgy339vahc"
   },
   "outputs": [
    {
     "name": "stderr",
     "output_type": "stream",
     "text": [
      "Downloading...\n",
      "From: https://drive.google.com/u/0/uc?id=1KUYTg4uRbaxJ8B0yxWXEa-YIRnki4jIu\n",
      "To: /home/jupyter/work/resources/dl_gan/notebooks/monogatari_white.zip\n",
      "100%|██████████| 167M/167M [00:02<00:00, 58.5MB/s]\n"
     ]
    }
   ],
   "source": [
    "#!:bash\n",
    "PATH=$PATH:/home/jupyter/.local/bin gdown https://drive.google.com/u/0/uc?id=1KUYTg4uRbaxJ8B0yxWXEa-YIRnki4jIu\n",
    "unzip monogatari_white.zip >> /dev/null"
   ]
  },
  {
   "cell_type": "code",
   "execution_count": 40,
   "id": "31bce422",
   "metadata": {
    "cellId": "3egu8ulbuwho297hkzlql"
   },
   "outputs": [
    {
     "name": "stdout",
     "output_type": "stream",
     "text": [
      "Background cell scheduled. Waiting for foreground cells to finish commits\n",
      "Unmounting dataset monogatari... ok\n",
      "Deleting old dataset monogatari... ok\n",
      "Preparing c1.4 instance...\n",
      "c1.4 instance is ready, running task...\n",
      "Mounting dataset monogatari_white... /home/jupyter/mnt/datasets/monogatari_white\n",
      "Task is done, waiting for foreground cells to finish...\n",
      "It's init dataset task. State result won't be merged.\n"
     ]
    }
   ],
   "source": [
    "#!:bash\n",
    "#pragma dataset delete maps\n",
    "#pragma dataset init monogatari_white --size 1Gb\n",
    "\n",
    "set -e\n",
    "cp -r ./monogatari_white /home/jupyter/mnt/datasets/"
   ]
  },
  {
   "cell_type": "code",
   "execution_count": 41,
   "id": "a349ef1f",
   "metadata": {
    "cellId": "c3m0plh3l20n74umqypo6"
   },
   "outputs": [
    {
     "name": "stdout",
     "output_type": "stream",
     "text": [
      "meta.json\n",
      "train\n",
      "valid\n"
     ]
    }
   ],
   "source": [
    "!ls /home/jupyter/mnt/datasets/monogatari_white"
   ]
  },
  {
   "cell_type": "code",
   "execution_count": 42,
   "id": "fae28d33",
   "metadata": {
    "cellId": "y83o4mmlj6e7cqhbxaoa25"
   },
   "outputs": [],
   "source": [
    "!rm -r ./monogatari_white ./monogatari_white.zip"
   ]
  },
  {
   "cell_type": "markdown",
   "id": "3b6ddd9e",
   "metadata": {
    "cellId": "9q0oaknlvmxjw2siduq",
    "execution_id": "7a1f4fc8-de22-435f-9152-dc721f8d5b6d"
   },
   "source": [
    "Monogatari"
   ]
  },
  {
   "cell_type": "code",
   "execution_count": 35,
   "id": "adf9c2b6",
   "metadata": {
    "cellId": "m483386fpxex40hjskivk"
   },
   "outputs": [],
   "source": [
    "#!:bash\n",
    "PATH=$PATH:/home/jupyter/.local/bin gdown https://drive.google.com/u/0/uc?id=1ObF8MuuytJYk62dA8jJmFLfO1wxU7MsP\n",
    "unzip monogatari.zip >> /dev/null"
   ]
  },
  {
   "cell_type": "code",
   "execution_count": 36,
   "id": "4ec22b0d",
   "metadata": {
    "cellId": "oang8e8vl1qvtdcas9r868"
   },
   "outputs": [
    {
     "name": "stdout",
     "output_type": "stream",
     "text": [
      "Background cell scheduled. Waiting for foreground cells to finish commits\n",
      "Unmounting dataset monogatari_white... ok\n",
      "Deleting old dataset monogatari_white... ok\n",
      "Preparing c1.4 instance...\n",
      "c1.4 instance is ready, running task...\n",
      "Mounting dataset monogatari... /home/jupyter/mnt/datasets/monogatari\n",
      "Task is done, waiting for foreground cells to finish...\n",
      "It's init dataset task. State result won't be merged.\n"
     ]
    }
   ],
   "source": [
    "#!:bash\n",
    "#pragma dataset delete monogatari_white\n",
    "#pragma dataset init monogatari --size 1Gb\n",
    "\n",
    "set -e\n",
    "cp -r ./monogatari /home/jupyter/mnt/datasets/"
   ]
  },
  {
   "cell_type": "code",
   "execution_count": 37,
   "id": "7bc1fc2b",
   "metadata": {
    "cellId": "sa5umurnb0mxzql08zzwp"
   },
   "outputs": [
    {
     "name": "stdout",
     "output_type": "stream",
     "text": [
      "meta.json\n",
      "train\n",
      "valid\n"
     ]
    }
   ],
   "source": [
    "!ls /home/jupyter/mnt/datasets/monogatari"
   ]
  },
  {
   "cell_type": "code",
   "execution_count": 39,
   "id": "3180f680",
   "metadata": {
    "cellId": "hsei3mwc2g9cigpgzs7l9f"
   },
   "outputs": [],
   "source": [
    "!rm -r ./monogatari ./monogatari.zip"
   ]
  }
 ],
 "metadata": {
  "language_info": {
   "codemirror_mode": {
    "name": "ipython",
    "version": 3
   },
   "file_extension": ".py",
   "mimetype": "text/x-python",
   "name": "python",
   "nbconvert_exporter": "python",
   "pygments_lexer": "ipython3",
   "version": "3.7.7"
  },
  "notebookId": "438047a3-6cd4-4ada-b30b-9b93ea7e497b",
  "notebookPath": "dl_gan/notebooks/dataset.ipynb"
 },
 "nbformat": 4,
 "nbformat_minor": 5
}
